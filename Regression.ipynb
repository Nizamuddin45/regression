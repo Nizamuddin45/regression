{
  "nbformat": 4,
  "nbformat_minor": 0,
  "metadata": {
    "colab": {
      "provenance": []
    },
    "kernelspec": {
      "name": "python3",
      "display_name": "Python 3"
    },
    "language_info": {
      "name": "python"
    }
  },
  "cells": [
    {
      "cell_type": "code",
      "execution_count": null,
      "metadata": {
        "id": "zZ4Sb7bKRmK-"
      },
      "outputs": [],
      "source": []
    },
    {
      "cell_type": "markdown",
      "source": [
        "**Question 1:** What is Simple Linear Regression?\n",
        "\n",
        "- Simple Linear Regression is a supervised learning algorithm that models the relationship between two variables —\n",
        "\n",
        "one independent variable (X)\n",
        "\n",
        "one dependent variable (Y)\n",
        "\n",
        "It tries to find a straight-line (linear) relationship between them.\n",
        "\n",
        "🔹 Equation:\n",
        "\n",
        "The equation of the regression line is:\n",
        "\n",
        "𝑌=\n",
        "𝑏0\n",
        "+\n",
        "𝑏1𝑋\n",
        "\n",
        "where:\n",
        "\n",
        "Y → Dependent variable (what we want to predict)\n",
        "\n",
        "X → Independent variable (input or predictor)\n",
        "\n",
        "𝑏0 → Intercept (the value of Y when X = 0)\n",
        "\n",
        "b1 -> slope (how much Y changes when X increases by 1 unit)\n",
        "\n",
        "---\n"
      ],
      "metadata": {
        "id": "95geeA7NRusV"
      }
    },
    {
      "cell_type": "markdown",
      "source": [
        "**Question2:** What are the key assumptions of Simple Linear Regression?\n",
        "- Simple Linear Regression relies on a few important assumptions to ensure that its predictions and statistical conclusions are valid.\n",
        "\n",
        "**1.Linearity:** X and Y have a straight-line relationship.\n",
        "\n",
        "**2.Independence:**\n",
        "Errors (residuals) are independent of each other.\n",
        "\n",
        "**3.Homoscedasticity:**\n",
        "Errors have constant variance (equal spread).\n",
        "\n",
        "**4.Normality:**\n",
        "Errors are normally distributed.\n",
        "\n",
        "**5.No Multicollinearity:**\n",
        "Only one X variable here, so this is automatically true.\n",
        "\n",
        "| Assumption           | Meaning                                | Problem if Violated              |\n",
        "| -------------------- | -------------------------------------- | -------------------------------- |\n",
        "| Linearity            | Relationship between X and Y is linear | Model fits poorly                |\n",
        "| Independence         | Errors are independent                 | Leads to autocorrelation         |\n",
        "| Homoscedasticity     | Constant variance of errors            | Biased estimates                 |\n",
        "| Normality            | Errors follow normal distribution      | Invalid hypothesis tests         |\n",
        "| No Multicollinearity | X’s not correlated                     | (Applies to multiple regression) |\n",
        "\n",
        "\n",
        "---"
      ],
      "metadata": {
        "id": "cEnReUthTJcB"
      }
    },
    {
      "cell_type": "markdown",
      "source": [
        "**Question3:** What is heteroscedasticity, and why is it important to address in regression models?\n",
        "\n",
        " - It means the variance of errors (residuals) is not constant across all levels of the independent variable.\n",
        "In simple words — the spread of errors increases or decreases as X changes.\n",
        "\n",
        "**Why it’s important:**\n",
        "\n",
        " - It violates regression assumptions (homoscedasticity).\n",
        "\n",
        " - It makes the model’s estimates less reliable.\n",
        "\n",
        " - Standard errors, t-tests, and confidence intervals can become incorrect — leading to wrong conclusions.\n",
        "\n",
        " Example:\n",
        "If prediction errors for small X values are small but very large for big X values — that’s heteroscedasticity.\n",
        "\n",
        "---\n"
      ],
      "metadata": {
        "id": "8bPqwCPrUwJ4"
      }
    },
    {
      "cell_type": "markdown",
      "source": [
        "**Question4:** What is Multiple Linear Regression?\n",
        "\n",
        "  - It is a supervised learning algorithm that shows the relationship between one dependent variable (Y) and two or more independent variables (X₁, X₂, X₃, ...).\n",
        "\n",
        "Equation:\n",
        "\n",
        "𝑌=\n",
        "𝑏0\n",
        "+\n",
        "𝑏\n",
        "1\n",
        "𝑋\n",
        "1\n",
        "+\n",
        "𝑏\n",
        "2\n",
        "𝑋\n",
        "2\n",
        "+\n",
        "𝑏\n",
        "3\n",
        "𝑋\n",
        "3\n",
        "+\n",
        ".\n",
        ".\n",
        ".\n",
        "+\n",
        "𝑏\n",
        "𝑛\n",
        "𝑋\n",
        "𝑛\n",
        "\n",
        "where:\n",
        "\n",
        "Y = dependent variable\n",
        "\n",
        "𝑋\n",
        "1\n",
        ",\n",
        "𝑋\n",
        "2 = independent variables\n",
        "\n",
        "𝑏0\n",
        "= intercept\n",
        "\n",
        "𝑏\n",
        "1\n",
        ",\n",
        "𝑏\n",
        "2= slopes (effect of each X on Y)\n",
        "\n",
        "Example:\n",
        "\n",
        "Predicting house price (Y) using size, number of rooms, and location (X₁, X₂, X₃).\n",
        "\n",
        "---"
      ],
      "metadata": {
        "id": "K7u1v0N5VfFZ"
      }
    },
    {
      "cell_type": "markdown",
      "source": [
        "**Question5:**  What is polynomial regression, and how does it differ from linear regression?\n",
        "\n",
        " -  Polynomial Regression:\n",
        "\n",
        "It is a type of linear regression where the relationship between X and Y is curved (non-linear).\n",
        "It uses powers of X (like X², X³, etc.) to model the curve.\n",
        "\n",
        "Equation:\n",
        "𝑌\n",
        "=\n",
        "𝑏\n",
        "0\n",
        "+\n",
        "𝑏\n",
        "1\n",
        "𝑋\n",
        "+\n",
        "𝑏\n",
        "2\n",
        "𝑋\n",
        "2\n",
        "+\n",
        "𝑏\n",
        "3\n",
        "𝑋\n",
        "3\n",
        "+\n",
        ".\n",
        ".\n",
        ".\n",
        "+\n",
        "𝑏\n",
        "𝑛\n",
        "𝑋\n",
        "𝑛\n",
        "\n",
        "\n",
        "**Difference from Linear Regression:**\n",
        "\n",
        "| Feature       | Linear Regression   | Polynomial Regression             |\n",
        "| ------------- | ------------------- | --------------------------------- |\n",
        "| Relationship  | Straight line       | Curved line                       |\n",
        "| Equation form | ( Y = b_0 + b_1X )  | ( Y = b_0 + b_1X + b_2X^2 + ... ) |\n",
        "| Use           | When data is linear | When data shows a curve or bend   |\n",
        "\n",
        "\n",
        "---"
      ],
      "metadata": {
        "id": "Qh_W-SUlWYCJ"
      }
    },
    {
      "cell_type": "markdown",
      "source": [
        "**Question6:** Implement a Python program to fit a Simple Linear Regression model to\n",
        "the following sample data:\n",
        "\n",
        "● X = [1, 2, 3, 4, 5]\n",
        "\n",
        "● Y = [2.1, 4.3, 6.1, 7.9, 10.2]\n",
        "\n",
        "Plot the regression line over the data points."
      ],
      "metadata": {
        "id": "qGNYZ5RtaKtG"
      }
    },
    {
      "cell_type": "code",
      "source": [
        "# Import required libraries\n",
        "import numpy as np\n",
        "import matplotlib.pyplot as plt\n",
        "from sklearn.linear_model import LinearRegression\n",
        "\n",
        "# Sample data\n",
        "X = np.array([1, 2, 3, 4, 5]).reshape(-1, 1)  # Independent variable\n",
        "Y = np.array([2.1, 4.3, 6.1, 7.9, 10.2])      # Dependent variable\n",
        "\n",
        "# Create and train the model\n",
        "model = LinearRegression()\n",
        "model.fit(X, Y)\n",
        "\n",
        "# Predict Y values\n",
        "Y_pred = model.predict(X)\n",
        "\n",
        "# Print slope and intercept\n",
        "print(\"Intercept (b0):\", model.intercept_)\n",
        "print(\"Slope (b1):\", model.coef_[0])\n",
        "\n",
        "# Plot data points and regression line\n",
        "plt.scatter(X, Y, color='blue', label='Actual Data')       # actual data points\n",
        "plt.plot(X, Y_pred, color='red', label='Regression Line')  # regression line\n",
        "plt.xlabel(\"X\")\n",
        "plt.ylabel(\"Y\")\n",
        "plt.title(\"Simple Linear Regression\")\n",
        "plt.legend()\n",
        "plt.show()\n"
      ],
      "metadata": {
        "colab": {
          "base_uri": "https://localhost:8080/",
          "height": 507
        },
        "id": "eds42RNUag9T",
        "outputId": "ae3edbac-1c54-4d45-af8d-715e4f96e0d4"
      },
      "execution_count": 1,
      "outputs": [
        {
          "output_type": "stream",
          "name": "stdout",
          "text": [
            "Intercept (b0): 0.17999999999999794\n",
            "Slope (b1): 1.9800000000000004\n"
          ]
        },
        {
          "output_type": "display_data",
          "data": {
            "text/plain": [
              "<Figure size 640x480 with 1 Axes>"
            ],
            "image/png": "[encoded data removed]"
          },
          "metadata": {}
        }
      ]
    },
    {
      "cell_type": "markdown",
      "source": [
        "**Question7:** Fit a Multiple Linear Regression model on this sample data:\n",
        "\n",
        "● Area = [1200, 1500, 1800, 2000]\n",
        "\n",
        "● Rooms = [2, 3, 3, 4]\n",
        "\n",
        "● Price = [250000, 300000, 320000, 370000]\n",
        "\n",
        "Check for multicollinearity using VIF and report the results.\n"
      ],
      "metadata": {
        "id": "ut45E7oAamkU"
      }
    },
    {
      "cell_type": "code",
      "source": [
        "# Import libraries\n",
        "import numpy as np\n",
        "import pandas as pd\n",
        "from sklearn.linear_model import LinearRegression\n",
        "from statsmodels.stats.outliers_influence import variance_inflation_factor\n",
        "\n",
        "# Sample data\n",
        "Area = [1200, 1500, 1800, 2000]\n",
        "Rooms = [2, 3, 3, 4]\n",
        "Price = [250000, 300000, 320000, 370000]\n",
        "\n",
        "# Create DataFrame\n",
        "data = pd.DataFrame({\n",
        "    'Area': Area,\n",
        "    'Rooms': Rooms,\n",
        "    'Price': Price\n",
        "})\n",
        "\n",
        "# Independent and dependent variables\n",
        "X = data[['Area', 'Rooms']]\n",
        "Y = data['Price']\n",
        "\n",
        "# Fit Multiple Linear Regression model\n",
        "model = LinearRegression()\n",
        "model.fit(X, Y)\n",
        "\n",
        "# Print coefficients\n",
        "print(\"Intercept (b0):\", model.intercept_)\n",
        "print(\"Coefficients (b1, b2):\", model.coef_)\n",
        "\n",
        "# Calculate VIF for each feature\n",
        "vif_data = pd.DataFrame()\n",
        "vif_data[\"Feature\"] = X.columns\n",
        "vif_data[\"VIF\"] = [variance_inflation_factor(X.values, i) for i in range(X.shape[1])]\n",
        "\n",
        "print(\"\\nVariance Inflation Factor (VIF):\")\n",
        "print(vif_data)\n"
      ],
      "metadata": {
        "colab": {
          "base_uri": "https://localhost:8080/"
        },
        "id": "_QKF2dVibDDK",
        "outputId": "8031f71a-c48b-4f2b-bd72-daa35f482f72"
      },
      "execution_count": 2,
      "outputs": [
        {
          "output_type": "stream",
          "name": "stdout",
          "text": [
            "Intercept (b0): 103157.89473684214\n",
            "Coefficients (b1, b2): [   63.15789474 34736.84210526]\n",
            "\n",
            "Variance Inflation Factor (VIF):\n",
            "  Feature         VIF\n",
            "0    Area  127.796923\n",
            "1   Rooms  127.796923\n"
          ]
        }
      ]
    },
    {
      "cell_type": "markdown",
      "source": [
        "**Question8:** Implement polynomial regression on the following data:\n",
        "\n",
        "● X = [1, 2, 3, 4, 5]\n",
        "\n",
        "● Y = [2.2, 4.8, 7.5, 11.2, 14.7]\n",
        "\n",
        "Fit a 2nd-degree polynomial and plot the resulting curve.\n"
      ],
      "metadata": {
        "id": "B3bSdAntbGJ9"
      }
    },
    {
      "cell_type": "code",
      "source": [
        "# Import libraries\n",
        "import numpy as np\n",
        "import matplotlib.pyplot as plt\n",
        "from sklearn.linear_model import LinearRegression\n",
        "from sklearn.preprocessing import PolynomialFeatures\n",
        "\n",
        "# Sample data\n",
        "X = np.array([1, 2, 3, 4, 5]).reshape(-1, 1)\n",
        "Y = np.array([2.2, 4.8, 7.5, 11.2, 14.7])\n",
        "\n",
        "# Create polynomial features (degree = 2)\n",
        "poly = PolynomialFeatures(degree=2)\n",
        "X_poly = poly.fit_transform(X)\n",
        "\n",
        "# Fit the Polynomial Regression model\n",
        "model = LinearRegression()\n",
        "model.fit(X_poly, Y)\n",
        "\n",
        "# Predict Y values\n",
        "Y_pred = model.predict(X_poly)\n",
        "\n",
        "# Print model coefficients\n",
        "print(\"Intercept (b0):\", model.intercept_)\n",
        "print(\"Coefficients (b1, b2):\", model.coef_)\n",
        "\n",
        "# Plot data points and the polynomial curve\n",
        "plt.scatter(X, Y, color='blue', label='Actual Data')\n",
        "plt.plot(X, Y_pred, color='red', label='Polynomial Curve (Degree 2)')\n",
        "plt.xlabel(\"X\")\n",
        "plt.ylabel(\"Y\")\n",
        "plt.title(\"Polynomial Regression (2nd Degree)\")\n",
        "plt.legend()\n",
        "plt.show()\n"
      ],
      "metadata": {
        "colab": {
          "base_uri": "https://localhost:8080/",
          "height": 507
        },
        "id": "M9MFZs4BbQj2",
        "outputId": "5dec42af-2f4b-4de1-faa5-6c48afcc8a19"
      },
      "execution_count": 3,
      "outputs": [
        {
          "output_type": "stream",
          "name": "stdout",
          "text": [
            "Intercept (b0): 0.06000000000000938\n",
            "Coefficients (b1, b2): [0.   1.94 0.2 ]\n"
          ]
        },
        {
          "output_type": "display_data",
          "data": {
            "text/plain": [
              "<Figure size 640x480 with 1 Axes>"
            ],
            "image/png": "[encoded data removed]"
          },
          "metadata": {}
        }
      ]
    },
    {
      "cell_type": "markdown",
      "source": [
        "**Question9:** Create a residuals plot for a regression model trained on this data:\n",
        "\n",
        "● X = [10, 20, 30, 40, 50]\n",
        "\n",
        "● Y = [15, 35, 40, 50, 65]\n",
        "\n",
        "Assess heteroscedasticity by examining the spread of residuals"
      ],
      "metadata": {
        "id": "RyHQZxYmbdWY"
      }
    },
    {
      "cell_type": "code",
      "source": [
        "# Import libraries\n",
        "import numpy as np\n",
        "import matplotlib.pyplot as plt\n",
        "from sklearn.linear_model import LinearRegression\n",
        "\n",
        "# Sample data\n",
        "X = np.array([10, 20, 30, 40, 50]).reshape(-1, 1)\n",
        "Y = np.array([15, 35, 40, 50, 65])\n",
        "\n",
        "# Fit Linear Regression model\n",
        "model = LinearRegression()\n",
        "model.fit(X, Y)\n",
        "\n",
        "# Predict Y values\n",
        "Y_pred = model.predict(X)\n",
        "\n",
        "# Calculate residuals (errors)\n",
        "residuals = Y - Y_pred\n",
        "\n",
        "# Print residuals\n",
        "print(\"Residuals:\", residuals)\n",
        "\n",
        "# Plot residuals\n",
        "plt.scatter(X, residuals, color='blue')\n",
        "plt.axhline(y=0, color='red', linestyle='--')\n",
        "plt.xlabel(\"X\")\n",
        "plt.ylabel(\"Residuals\")\n",
        "plt.title(\"Residuals Plot\")\n",
        "plt.show()\n"
      ],
      "metadata": {
        "colab": {
          "base_uri": "https://localhost:8080/",
          "height": 489
        },
        "id": "38JvljvHc5O0",
        "outputId": "bf850274-55b8-4b56-c1b9-902bba90217f"
      },
      "execution_count": 4,
      "outputs": [
        {
          "output_type": "stream",
          "name": "stdout",
          "text": [
            "Residuals: [-3.   5.5 -1.  -2.5  1. ]\n"
          ]
        },
        {
          "output_type": "display_data",
          "data": {
            "text/plain": [
              "<Figure size 640x480 with 1 Axes>"
            ],
            "image/png": "[encoded data removed]"
          },
          "metadata": {}
        }
      ]
    },
    {
      "cell_type": "markdown",
      "source": [
        "**Question10:**Imagine you are a data scientist working for a real estate company.You need to predict house prices using features like area, number of rooms, and location.However, you detect heteroscedasticity and multicollinearity in your regression model.Explain the steps you would take to address these issues and ensure a robust model.\n",
        "\n",
        "  -  **Problem 1: Heteroscedasticity**\n",
        "\n",
        "Heteroscedasticity occurs when the variance of residuals is not constant. This can make predictions and statistical tests unreliable.\n",
        "\n",
        "Steps to handle it:\n",
        "\n",
        "**1.Transform the dependent variable (Price)**\n",
        "\n",
        "Apply log, square root, or Box-Cox transformations to stabilize variance.\n",
        "\n",
        "Example: Y_log = np.log(Price)\n",
        "\n",
        "**Weighted Regression**\n",
        "\n",
        "Give less weight to data points with larger variance.\n",
        "\n",
        "**Use Robust Regression Models**\n",
        "\n",
        "Algorithms like RANSAC, HuberRegressor, or Quantile Regression are less sensitive to heteroscedasticity.\n",
        "\n",
        "**Check residual plots again**\n",
        "\n",
        "Ensure residuals are now more evenly spread.\n",
        "\n",
        "**Problem 2: Multicollinearity**\n",
        "\n",
        "Multicollinearity occurs when independent variables are highly correlated, making it hard to interpret coefficients.\n",
        "\n",
        "Steps to handle it:\n",
        "\n",
        "**Check VIF (Variance Inflation Factor)**\n",
        "\n",
        "Remove variables with VIF > 5–10.\n",
        "\n",
        "**Drop or combine correlated features**\n",
        "\n",
        "For example, combine Area and Rooms into a single metric like Price per room.\n",
        "\n",
        "**Use dimensionality reduction**\n",
        "\n",
        "Principal Component Analysis (PCA) transforms correlated features into uncorrelated components.\n",
        "\n",
        "**Use regularized regression**\n",
        "\n",
        "Ridge or Lasso Regression penalizes large coefficients, reducing multicollinearity effects.\n",
        "\n",
        "# Additional Steps for a Robust Model\n",
        "\n",
        "**Feature scaling:** Standardize features if using regularized models.\n",
        "\n",
        "**Cross-validation:** Use K-Fold CV to ensure model generalizes well.\n",
        "\n",
        "**Model selection:** Compare linear, polynomial, and tree-based models (like Random Forest) which handle non-linear relationships.\n",
        "\n",
        "**Residual diagnostics:** Always check residuals plots after adjustments"
      ],
      "metadata": {
        "id": "bkq06crlc_wh"
      }
    }
  ]
}